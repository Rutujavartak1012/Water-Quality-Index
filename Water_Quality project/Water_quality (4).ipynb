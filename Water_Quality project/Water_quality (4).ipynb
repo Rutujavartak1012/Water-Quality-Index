{
 "cells": [
  {
   "cell_type": "code",
   "execution_count": 4,
   "id": "0f3a23c8-c1fa-41c7-b60b-7a1c82ae0496",
   "metadata": {},
   "outputs": [],
   "source": [
    "import pandas as pd"
   ]
  },
  {
   "cell_type": "code",
   "execution_count": 9,
   "id": "6e32b13b-43c4-4674-ad9b-c08eb5b2b5dc",
   "metadata": {},
   "outputs": [
    {
     "data": {
      "text/html": [
       "<div>\n",
       "<style scoped>\n",
       "    .dataframe tbody tr th:only-of-type {\n",
       "        vertical-align: middle;\n",
       "    }\n",
       "\n",
       "    .dataframe tbody tr th {\n",
       "        vertical-align: top;\n",
       "    }\n",
       "\n",
       "    .dataframe thead th {\n",
       "        text-align: right;\n",
       "    }\n",
       "</style>\n",
       "<table border=\"1\" class=\"dataframe\">\n",
       "  <thead>\n",
       "    <tr style=\"text-align: right;\">\n",
       "      <th></th>\n",
       "      <th>temperature</th>\n",
       "      <th>dissolved oxygen</th>\n",
       "      <th>pH</th>\n",
       "      <th>conductivity</th>\n",
       "      <th>BCOD</th>\n",
       "      <th>nitrate</th>\n",
       "      <th>faecal coliform</th>\n",
       "      <th>total coliform</th>\n",
       "      <th>Unnamed: 8</th>\n",
       "      <th>Unnamed: 9</th>\n",
       "    </tr>\n",
       "  </thead>\n",
       "  <tbody>\n",
       "    <tr>\n",
       "      <th>0</th>\n",
       "      <td>7.5</td>\n",
       "      <td>9.95</td>\n",
       "      <td>7.85</td>\n",
       "      <td>134.5</td>\n",
       "      <td>0.15</td>\n",
       "      <td>0.255</td>\n",
       "      <td>22.5</td>\n",
       "      <td>180.0</td>\n",
       "      <td>NaN</td>\n",
       "      <td>NaN</td>\n",
       "    </tr>\n",
       "    <tr>\n",
       "      <th>1</th>\n",
       "      <td>11.0</td>\n",
       "      <td>9.65</td>\n",
       "      <td>7.70</td>\n",
       "      <td>77.0</td>\n",
       "      <td>0.45</td>\n",
       "      <td>0.200</td>\n",
       "      <td>62.5</td>\n",
       "      <td>410.0</td>\n",
       "      <td>NaN</td>\n",
       "      <td>NaN</td>\n",
       "    </tr>\n",
       "    <tr>\n",
       "      <th>2</th>\n",
       "      <td>7.5</td>\n",
       "      <td>9.90</td>\n",
       "      <td>7.65</td>\n",
       "      <td>101.5</td>\n",
       "      <td>0.55</td>\n",
       "      <td>0.100</td>\n",
       "      <td>26.0</td>\n",
       "      <td>200.0</td>\n",
       "      <td>NaN</td>\n",
       "      <td>NaN</td>\n",
       "    </tr>\n",
       "    <tr>\n",
       "      <th>3</th>\n",
       "      <td>8.5</td>\n",
       "      <td>9.65</td>\n",
       "      <td>7.55</td>\n",
       "      <td>148.0</td>\n",
       "      <td>0.35</td>\n",
       "      <td>0.250</td>\n",
       "      <td>97.5</td>\n",
       "      <td>600.0</td>\n",
       "      <td>NaN</td>\n",
       "      <td>NaN</td>\n",
       "    </tr>\n",
       "    <tr>\n",
       "      <th>4</th>\n",
       "      <td>10.0</td>\n",
       "      <td>9.55</td>\n",
       "      <td>7.80</td>\n",
       "      <td>106.0</td>\n",
       "      <td>0.25</td>\n",
       "      <td>0.150</td>\n",
       "      <td>47.5</td>\n",
       "      <td>380.0</td>\n",
       "      <td>NaN</td>\n",
       "      <td>NaN</td>\n",
       "    </tr>\n",
       "  </tbody>\n",
       "</table>\n",
       "</div>"
      ],
      "text/plain": [
       "   temperature  dissolved oxygen    pH  conductivity  BCOD  nitrate  \\\n",
       "0          7.5              9.95  7.85         134.5  0.15    0.255   \n",
       "1         11.0              9.65  7.70          77.0  0.45    0.200   \n",
       "2          7.5              9.90  7.65         101.5  0.55    0.100   \n",
       "3          8.5              9.65  7.55         148.0  0.35    0.250   \n",
       "4         10.0              9.55  7.80         106.0  0.25    0.150   \n",
       "\n",
       "   faecal coliform  total coliform  Unnamed: 8  Unnamed: 9  \n",
       "0             22.5           180.0         NaN         NaN  \n",
       "1             62.5           410.0         NaN         NaN  \n",
       "2             26.0           200.0         NaN         NaN  \n",
       "3             97.5           600.0         NaN         NaN  \n",
       "4             47.5           380.0         NaN         NaN  "
      ]
     },
     "execution_count": 9,
     "metadata": {},
     "output_type": "execute_result"
    }
   ],
   "source": [
    "df=pd.read_csv(r\"C:\\Users\\Rutuja Vartak\\Downloads\\water.csv\")\n",
    "df.head()"
   ]
  },
  {
   "cell_type": "code",
   "execution_count": 3,
   "id": "a2305e7f-0777-47ef-9baa-3dc59268be5f",
   "metadata": {},
   "outputs": [
    {
     "data": {
      "text/html": [
       "<div>\n",
       "<style scoped>\n",
       "    .dataframe tbody tr th:only-of-type {\n",
       "        vertical-align: middle;\n",
       "    }\n",
       "\n",
       "    .dataframe tbody tr th {\n",
       "        vertical-align: top;\n",
       "    }\n",
       "\n",
       "    .dataframe thead th {\n",
       "        text-align: right;\n",
       "    }\n",
       "</style>\n",
       "<table border=\"1\" class=\"dataframe\">\n",
       "  <thead>\n",
       "    <tr style=\"text-align: right;\">\n",
       "      <th></th>\n",
       "      <th>temperature</th>\n",
       "      <th>dissolved oxygen</th>\n",
       "      <th>pH</th>\n",
       "      <th>conductivity</th>\n",
       "      <th>BCOD</th>\n",
       "      <th>nitrate</th>\n",
       "      <th>faecal coliform</th>\n",
       "      <th>total coliform</th>\n",
       "      <th>Unnamed: 8</th>\n",
       "      <th>Unnamed: 9</th>\n",
       "    </tr>\n",
       "  </thead>\n",
       "  <tbody>\n",
       "    <tr>\n",
       "      <th>76</th>\n",
       "      <td>23.0</td>\n",
       "      <td>6.10</td>\n",
       "      <td>7.55</td>\n",
       "      <td>344.0</td>\n",
       "      <td>3.10</td>\n",
       "      <td>2.05</td>\n",
       "      <td>3600.0</td>\n",
       "      <td>7150.0</td>\n",
       "      <td>NaN</td>\n",
       "      <td>NaN</td>\n",
       "    </tr>\n",
       "    <tr>\n",
       "      <th>77</th>\n",
       "      <td>20.5</td>\n",
       "      <td>4.45</td>\n",
       "      <td>7.40</td>\n",
       "      <td>598.0</td>\n",
       "      <td>11.60</td>\n",
       "      <td>1.11</td>\n",
       "      <td>52000.0</td>\n",
       "      <td>138500.0</td>\n",
       "      <td>NaN</td>\n",
       "      <td>NaN</td>\n",
       "    </tr>\n",
       "    <tr>\n",
       "      <th>78</th>\n",
       "      <td>21.5</td>\n",
       "      <td>3.50</td>\n",
       "      <td>7.65</td>\n",
       "      <td>761.0</td>\n",
       "      <td>12.70</td>\n",
       "      <td>1.75</td>\n",
       "      <td>11100.0</td>\n",
       "      <td>28650.0</td>\n",
       "      <td>NaN</td>\n",
       "      <td>NaN</td>\n",
       "    </tr>\n",
       "    <tr>\n",
       "      <th>79</th>\n",
       "      <td>22.0</td>\n",
       "      <td>7.80</td>\n",
       "      <td>7.65</td>\n",
       "      <td>249.0</td>\n",
       "      <td>1.15</td>\n",
       "      <td>0.80</td>\n",
       "      <td>511.5</td>\n",
       "      <td>1445.0</td>\n",
       "      <td>NaN</td>\n",
       "      <td>NaN</td>\n",
       "    </tr>\n",
       "    <tr>\n",
       "      <th>80</th>\n",
       "      <td>23.0</td>\n",
       "      <td>7.65</td>\n",
       "      <td>7.70</td>\n",
       "      <td>260.0</td>\n",
       "      <td>1.50</td>\n",
       "      <td>2.25</td>\n",
       "      <td>490.5</td>\n",
       "      <td>1260.0</td>\n",
       "      <td>NaN</td>\n",
       "      <td>NaN</td>\n",
       "    </tr>\n",
       "  </tbody>\n",
       "</table>\n",
       "</div>"
      ],
      "text/plain": [
       "    temperature  dissolved oxygen    pH  conductivity   BCOD  nitrate  \\\n",
       "76         23.0              6.10  7.55         344.0   3.10     2.05   \n",
       "77         20.5              4.45  7.40         598.0  11.60     1.11   \n",
       "78         21.5              3.50  7.65         761.0  12.70     1.75   \n",
       "79         22.0              7.80  7.65         249.0   1.15     0.80   \n",
       "80         23.0              7.65  7.70         260.0   1.50     2.25   \n",
       "\n",
       "    faecal coliform  total coliform  Unnamed: 8  Unnamed: 9  \n",
       "76           3600.0          7150.0         NaN         NaN  \n",
       "77          52000.0        138500.0         NaN         NaN  \n",
       "78          11100.0         28650.0         NaN         NaN  \n",
       "79            511.5          1445.0         NaN         NaN  \n",
       "80            490.5          1260.0         NaN         NaN  "
      ]
     },
     "execution_count": 3,
     "metadata": {},
     "output_type": "execute_result"
    }
   ],
   "source": [
    "df.tail()"
   ]
  },
  {
   "cell_type": "code",
   "execution_count": 10,
   "id": "093c8ea9-2a4b-4d8a-b45b-49c5dc1a6b36",
   "metadata": {},
   "outputs": [],
   "source": [
    "df.drop('Unnamed: 8',axis='columns',inplace=True)"
   ]
  },
  {
   "cell_type": "code",
   "execution_count": 11,
   "id": "7085f647-3294-4d35-beb3-a1425567ca92",
   "metadata": {},
   "outputs": [],
   "source": [
    "df.drop('Unnamed: 9',axis='columns',inplace=True)"
   ]
  },
  {
   "cell_type": "code",
   "execution_count": 12,
   "id": "c537364d-f542-4123-a6a6-637362d7fe5e",
   "metadata": {},
   "outputs": [
    {
     "data": {
      "text/html": [
       "<div>\n",
       "<style scoped>\n",
       "    .dataframe tbody tr th:only-of-type {\n",
       "        vertical-align: middle;\n",
       "    }\n",
       "\n",
       "    .dataframe tbody tr th {\n",
       "        vertical-align: top;\n",
       "    }\n",
       "\n",
       "    .dataframe thead th {\n",
       "        text-align: right;\n",
       "    }\n",
       "</style>\n",
       "<table border=\"1\" class=\"dataframe\">\n",
       "  <thead>\n",
       "    <tr style=\"text-align: right;\">\n",
       "      <th></th>\n",
       "      <th>temperature</th>\n",
       "      <th>dissolved oxygen</th>\n",
       "      <th>pH</th>\n",
       "      <th>conductivity</th>\n",
       "      <th>BCOD</th>\n",
       "      <th>nitrate</th>\n",
       "      <th>faecal coliform</th>\n",
       "      <th>total coliform</th>\n",
       "    </tr>\n",
       "  </thead>\n",
       "  <tbody>\n",
       "    <tr>\n",
       "      <th>0</th>\n",
       "      <td>7.5</td>\n",
       "      <td>9.95</td>\n",
       "      <td>7.85</td>\n",
       "      <td>134.5</td>\n",
       "      <td>0.15</td>\n",
       "      <td>0.255</td>\n",
       "      <td>22.5</td>\n",
       "      <td>180.0</td>\n",
       "    </tr>\n",
       "    <tr>\n",
       "      <th>1</th>\n",
       "      <td>11.0</td>\n",
       "      <td>9.65</td>\n",
       "      <td>7.70</td>\n",
       "      <td>77.0</td>\n",
       "      <td>0.45</td>\n",
       "      <td>0.200</td>\n",
       "      <td>62.5</td>\n",
       "      <td>410.0</td>\n",
       "    </tr>\n",
       "    <tr>\n",
       "      <th>2</th>\n",
       "      <td>7.5</td>\n",
       "      <td>9.90</td>\n",
       "      <td>7.65</td>\n",
       "      <td>101.5</td>\n",
       "      <td>0.55</td>\n",
       "      <td>0.100</td>\n",
       "      <td>26.0</td>\n",
       "      <td>200.0</td>\n",
       "    </tr>\n",
       "    <tr>\n",
       "      <th>3</th>\n",
       "      <td>8.5</td>\n",
       "      <td>9.65</td>\n",
       "      <td>7.55</td>\n",
       "      <td>148.0</td>\n",
       "      <td>0.35</td>\n",
       "      <td>0.250</td>\n",
       "      <td>97.5</td>\n",
       "      <td>600.0</td>\n",
       "    </tr>\n",
       "    <tr>\n",
       "      <th>4</th>\n",
       "      <td>10.0</td>\n",
       "      <td>9.55</td>\n",
       "      <td>7.80</td>\n",
       "      <td>106.0</td>\n",
       "      <td>0.25</td>\n",
       "      <td>0.150</td>\n",
       "      <td>47.5</td>\n",
       "      <td>380.0</td>\n",
       "    </tr>\n",
       "  </tbody>\n",
       "</table>\n",
       "</div>"
      ],
      "text/plain": [
       "   temperature  dissolved oxygen    pH  conductivity  BCOD  nitrate  \\\n",
       "0          7.5              9.95  7.85         134.5  0.15    0.255   \n",
       "1         11.0              9.65  7.70          77.0  0.45    0.200   \n",
       "2          7.5              9.90  7.65         101.5  0.55    0.100   \n",
       "3          8.5              9.65  7.55         148.0  0.35    0.250   \n",
       "4         10.0              9.55  7.80         106.0  0.25    0.150   \n",
       "\n",
       "   faecal coliform  total coliform  \n",
       "0             22.5           180.0  \n",
       "1             62.5           410.0  \n",
       "2             26.0           200.0  \n",
       "3             97.5           600.0  \n",
       "4             47.5           380.0  "
      ]
     },
     "execution_count": 12,
     "metadata": {},
     "output_type": "execute_result"
    }
   ],
   "source": [
    "df.head()"
   ]
  },
  {
   "cell_type": "code",
   "execution_count": 13,
   "id": "39c6dd64-0f8a-4771-bfb9-6be707791290",
   "metadata": {},
   "outputs": [],
   "source": [
    "from sklearn.linear_model import LinearRegression"
   ]
  },
  {
   "cell_type": "code",
   "execution_count": 14,
   "id": "1a0bd112-3755-42d8-bc71-1d9d03347124",
   "metadata": {},
   "outputs": [],
   "source": [
    "from sklearn.preprocessing import StandardScaler"
   ]
  },
  {
   "cell_type": "code",
   "execution_count": 15,
   "id": "d44bdd4e-486a-4316-b9e3-5a43c144407e",
   "metadata": {},
   "outputs": [],
   "source": [
    "from sklearn.pipeline import Pipeline\n",
    "from sklearn.preprocessing import PolynomialFeatures"
   ]
  },
  {
   "cell_type": "code",
   "execution_count": 16,
   "id": "a4061307-e737-4db7-866e-5d98d2b14820",
   "metadata": {},
   "outputs": [],
   "source": [
    "Input=[('sclae',StandardScaler()),('Polynomial',PolynomialFeatures(degree=2)),('mode',LinearRegression())]"
   ]
  },
  {
   "cell_type": "code",
   "execution_count": 17,
   "id": "787c44e2-aea7-41f6-9240-8ebedbd7f22c",
   "metadata": {},
   "outputs": [],
   "source": [
    "pipe=Pipeline(Input)"
   ]
  },
  {
   "cell_type": "code",
   "execution_count": 18,
   "id": "7c933729-4279-4336-bfaa-ea3c10ade5aa",
   "metadata": {},
   "outputs": [
    {
     "data": {
      "text/plain": [
       "Pipeline(steps=[('sclae', StandardScaler()),\n",
       "                ('Polynomial', PolynomialFeatures()),\n",
       "                ('mode', LinearRegression())])"
      ]
     },
     "execution_count": 18,
     "metadata": {},
     "output_type": "execute_result"
    }
   ],
   "source": [
    "pipe.fit(df[['temperature','dissolved oxygen','conductivity','BCOD','nitrate','faecal coliform','total coliform']],df['pH'])"
   ]
  },
  {
   "cell_type": "code",
   "execution_count": 19,
   "id": "9f3a2849-1090-4f03-915f-088c8d25206a",
   "metadata": {},
   "outputs": [],
   "source": [
    "yhat=pipe.predict(df[['temperature','dissolved oxygen','conductivity','BCOD','nitrate','faecal coliform','total coliform']])"
   ]
  },
  {
   "cell_type": "code",
   "execution_count": 20,
   "id": "3ea4321f-0c14-444b-8ce6-9b7c10eac5c3",
   "metadata": {},
   "outputs": [
    {
     "data": {
      "text/plain": [
       "array([7.87573242, 7.72290039, 7.73681641, 7.85424805, 7.85839844,\n",
       "       7.54711914, 7.75512695, 7.765625  , 7.80102539, 7.88061523,\n",
       "       8.07055664, 7.90380859, 7.85888672, 7.71240234, 7.69677734,\n",
       "       7.75854492, 7.75195312, 7.74462891, 7.96728516, 7.96875   ,\n",
       "       7.91992188, 8.01416016, 7.78979492, 8.41601562, 8.5859375 ,\n",
       "       7.66137695, 7.75732422, 7.76977539, 7.6015625 , 7.45800781,\n",
       "       7.57885742, 7.58349609, 7.52954102, 7.58325195, 7.92895508,\n",
       "       7.53442383, 7.57641602, 7.64575195, 7.69506836, 7.81689453,\n",
       "       8.34716797, 8.22290039, 7.62768555, 7.75732422, 7.56054688,\n",
       "       7.88916016, 7.93652344, 7.70874023, 7.82373047, 8.01586914,\n",
       "       7.99047852, 7.86328125, 7.73266602, 8.67114258, 8.20556641,\n",
       "       8.1496582 , 7.73193359, 7.76196289, 8.02978516, 7.97900391,\n",
       "       7.3347168 , 7.69091797, 7.46582031, 6.77783203, 7.88500977,\n",
       "       7.27807617, 7.56811523, 7.26416016, 7.68041992, 7.32763672,\n",
       "       7.66113281, 7.88134766, 7.69287109, 8.08129883, 7.85229492,\n",
       "       7.44897461, 7.16943359, 8.34277344, 7.27099609, 7.72583008,\n",
       "       7.63769531])"
      ]
     },
     "execution_count": 20,
     "metadata": {},
     "output_type": "execute_result"
    }
   ],
   "source": [
    "yhat"
   ]
  },
  {
   "cell_type": "code",
   "execution_count": 21,
   "id": "aea1fea9-ed75-423a-8cf0-e3ab54a0ac24",
   "metadata": {},
   "outputs": [
    {
     "ename": "AttributeError",
     "evalue": "'Pipeline' object has no attribute 'intercept_'",
     "output_type": "error",
     "traceback": [
      "\u001b[1;31m---------------------------------------------------------------------------\u001b[0m",
      "\u001b[1;31mAttributeError\u001b[0m                            Traceback (most recent call last)",
      "\u001b[1;32mC:\\Users\\RUTUJA~1\\AppData\\Local\\Temp/ipykernel_14588/100101278.py\u001b[0m in \u001b[0;36m<module>\u001b[1;34m\u001b[0m\n\u001b[1;32m----> 1\u001b[1;33m \u001b[0mpipe\u001b[0m\u001b[1;33m.\u001b[0m\u001b[0mintercept_\u001b[0m\u001b[1;33m\u001b[0m\u001b[1;33m\u001b[0m\u001b[0m\n\u001b[0m",
      "\u001b[1;31mAttributeError\u001b[0m: 'Pipeline' object has no attribute 'intercept_'"
     ]
    }
   ],
   "source": [
    "pipe.intercept_"
   ]
  },
  {
   "cell_type": "code",
   "execution_count": 22,
   "id": "e2a467ee-cc45-4647-a6e3-eab13dd85ec4",
   "metadata": {},
   "outputs": [
    {
     "ename": "AttributeError",
     "evalue": "'numpy.ndarray' object has no attribute 'intercept_'",
     "output_type": "error",
     "traceback": [
      "\u001b[1;31m---------------------------------------------------------------------------\u001b[0m",
      "\u001b[1;31mAttributeError\u001b[0m                            Traceback (most recent call last)",
      "\u001b[1;32mC:\\Users\\RUTUJA~1\\AppData\\Local\\Temp/ipykernel_14588/1164719461.py\u001b[0m in \u001b[0;36m<module>\u001b[1;34m\u001b[0m\n\u001b[1;32m----> 1\u001b[1;33m \u001b[0myhat\u001b[0m\u001b[1;33m.\u001b[0m\u001b[0mintercept_\u001b[0m\u001b[1;33m\u001b[0m\u001b[1;33m\u001b[0m\u001b[0m\n\u001b[0m",
      "\u001b[1;31mAttributeError\u001b[0m: 'numpy.ndarray' object has no attribute 'intercept_'"
     ]
    }
   ],
   "source": [
    "yhat.intercept_"
   ]
  },
  {
   "cell_type": "code",
   "execution_count": 23,
   "id": "cfb4c6d2-f53f-4a81-9f0c-ff07039bce12",
   "metadata": {},
   "outputs": [
    {
     "name": "stderr",
     "output_type": "stream",
     "text": [
      "C:\\Users\\Rutuja Vartak\\anaconda3\\lib\\site-packages\\seaborn\\distributions.py:2619: FutureWarning: `distplot` is a deprecated function and will be removed in a future version. Please adapt your code to use either `displot` (a figure-level function with similar flexibility) or `kdeplot` (an axes-level function for kernel density plots).\n",
      "  warnings.warn(msg, FutureWarning)\n",
      "C:\\Users\\Rutuja Vartak\\anaconda3\\lib\\site-packages\\seaborn\\distributions.py:2619: FutureWarning: `distplot` is a deprecated function and will be removed in a future version. Please adapt your code to use either `displot` (a figure-level function with similar flexibility) or `kdeplot` (an axes-level function for kernel density plots).\n",
      "  warnings.warn(msg, FutureWarning)\n"
     ]
    },
    {
     "data": {
      "text/plain": [
       "<AxesSubplot:xlabel='pH', ylabel='Density'>"
      ]
     },
     "execution_count": 23,
     "metadata": {},
     "output_type": "execute_result"
    },
    {
     "data": {
      "image/png": "[encoded data removed]",
      "text/plain": [
       "<Figure size 432x288 with 1 Axes>"
      ]
     },
     "metadata": {
      "needs_background": "light"
     },
     "output_type": "display_data"
    }
   ],
   "source": [
    "import seaborn as sns\n",
    "\n",
    "ax1= sns.distplot(df['pH'],hist=False,color='r',label=\"actual value\")\n",
    "sns.distplot(yhat, hist=False, color='b',label=\"Fitted Values\",ax=ax1)"
   ]
  },
  {
   "cell_type": "code",
   "execution_count": 24,
   "id": "47fe5ad6-e183-471d-a9b7-82c9f8d64638",
   "metadata": {},
   "outputs": [
    {
     "data": {
      "text/html": [
       "<div>\n",
       "<style scoped>\n",
       "    .dataframe tbody tr th:only-of-type {\n",
       "        vertical-align: middle;\n",
       "    }\n",
       "\n",
       "    .dataframe tbody tr th {\n",
       "        vertical-align: top;\n",
       "    }\n",
       "\n",
       "    .dataframe thead th {\n",
       "        text-align: right;\n",
       "    }\n",
       "</style>\n",
       "<table border=\"1\" class=\"dataframe\">\n",
       "  <thead>\n",
       "    <tr style=\"text-align: right;\">\n",
       "      <th></th>\n",
       "      <th>temperature</th>\n",
       "      <th>dissolved oxygen</th>\n",
       "      <th>pH</th>\n",
       "      <th>conductivity</th>\n",
       "      <th>BCOD</th>\n",
       "      <th>nitrate</th>\n",
       "      <th>faecal coliform</th>\n",
       "      <th>total coliform</th>\n",
       "    </tr>\n",
       "  </thead>\n",
       "  <tbody>\n",
       "    <tr>\n",
       "      <th>temperature</th>\n",
       "      <td>1.000000</td>\n",
       "      <td>-0.581304</td>\n",
       "      <td>-0.228084</td>\n",
       "      <td>-0.356913</td>\n",
       "      <td>0.369034</td>\n",
       "      <td>0.351529</td>\n",
       "      <td>0.215403</td>\n",
       "      <td>0.227615</td>\n",
       "    </tr>\n",
       "    <tr>\n",
       "      <th>dissolved oxygen</th>\n",
       "      <td>-0.581304</td>\n",
       "      <td>1.000000</td>\n",
       "      <td>0.527503</td>\n",
       "      <td>-0.204633</td>\n",
       "      <td>-0.838554</td>\n",
       "      <td>-0.394366</td>\n",
       "      <td>-0.370665</td>\n",
       "      <td>-0.381674</td>\n",
       "    </tr>\n",
       "    <tr>\n",
       "      <th>pH</th>\n",
       "      <td>-0.228084</td>\n",
       "      <td>0.527503</td>\n",
       "      <td>1.000000</td>\n",
       "      <td>0.102397</td>\n",
       "      <td>-0.451255</td>\n",
       "      <td>-0.285431</td>\n",
       "      <td>-0.240923</td>\n",
       "      <td>-0.257665</td>\n",
       "    </tr>\n",
       "    <tr>\n",
       "      <th>conductivity</th>\n",
       "      <td>-0.356913</td>\n",
       "      <td>-0.204633</td>\n",
       "      <td>0.102397</td>\n",
       "      <td>1.000000</td>\n",
       "      <td>0.201083</td>\n",
       "      <td>0.061895</td>\n",
       "      <td>0.061737</td>\n",
       "      <td>0.058369</td>\n",
       "    </tr>\n",
       "    <tr>\n",
       "      <th>BCOD</th>\n",
       "      <td>0.369034</td>\n",
       "      <td>-0.838554</td>\n",
       "      <td>-0.451255</td>\n",
       "      <td>0.201083</td>\n",
       "      <td>1.000000</td>\n",
       "      <td>0.325552</td>\n",
       "      <td>0.559099</td>\n",
       "      <td>0.561209</td>\n",
       "    </tr>\n",
       "    <tr>\n",
       "      <th>nitrate</th>\n",
       "      <td>0.351529</td>\n",
       "      <td>-0.394366</td>\n",
       "      <td>-0.285431</td>\n",
       "      <td>0.061895</td>\n",
       "      <td>0.325552</td>\n",
       "      <td>1.000000</td>\n",
       "      <td>0.112182</td>\n",
       "      <td>0.122953</td>\n",
       "    </tr>\n",
       "    <tr>\n",
       "      <th>faecal coliform</th>\n",
       "      <td>0.215403</td>\n",
       "      <td>-0.370665</td>\n",
       "      <td>-0.240923</td>\n",
       "      <td>0.061737</td>\n",
       "      <td>0.559099</td>\n",
       "      <td>0.112182</td>\n",
       "      <td>1.000000</td>\n",
       "      <td>0.991509</td>\n",
       "    </tr>\n",
       "    <tr>\n",
       "      <th>total coliform</th>\n",
       "      <td>0.227615</td>\n",
       "      <td>-0.381674</td>\n",
       "      <td>-0.257665</td>\n",
       "      <td>0.058369</td>\n",
       "      <td>0.561209</td>\n",
       "      <td>0.122953</td>\n",
       "      <td>0.991509</td>\n",
       "      <td>1.000000</td>\n",
       "    </tr>\n",
       "  </tbody>\n",
       "</table>\n",
       "</div>"
      ],
      "text/plain": [
       "                  temperature  dissolved oxygen        pH  conductivity  \\\n",
       "temperature          1.000000         -0.581304 -0.228084     -0.356913   \n",
       "dissolved oxygen    -0.581304          1.000000  0.527503     -0.204633   \n",
       "pH                  -0.228084          0.527503  1.000000      0.102397   \n",
       "conductivity        -0.356913         -0.204633  0.102397      1.000000   \n",
       "BCOD                 0.369034         -0.838554 -0.451255      0.201083   \n",
       "nitrate              0.351529         -0.394366 -0.285431      0.061895   \n",
       "faecal coliform      0.215403         -0.370665 -0.240923      0.061737   \n",
       "total coliform       0.227615         -0.381674 -0.257665      0.058369   \n",
       "\n",
       "                      BCOD   nitrate  faecal coliform  total coliform  \n",
       "temperature       0.369034  0.351529         0.215403        0.227615  \n",
       "dissolved oxygen -0.838554 -0.394366        -0.370665       -0.381674  \n",
       "pH               -0.451255 -0.285431        -0.240923       -0.257665  \n",
       "conductivity      0.201083  0.061895         0.061737        0.058369  \n",
       "BCOD              1.000000  0.325552         0.559099        0.561209  \n",
       "nitrate           0.325552  1.000000         0.112182        0.122953  \n",
       "faecal coliform   0.559099  0.112182         1.000000        0.991509  \n",
       "total coliform    0.561209  0.122953         0.991509        1.000000  "
      ]
     },
     "execution_count": 24,
     "metadata": {},
     "output_type": "execute_result"
    }
   ],
   "source": [
    "df.corr() #pH is being predicted. clearly visible that 'dissolved oxygen' and 'BCOD' is influencing pH the most"
   ]
  },
  {
   "cell_type": "code",
   "execution_count": 25,
   "id": "0bd65356-30aa-4951-af66-441feac3e786",
   "metadata": {},
   "outputs": [],
   "source": [
    "df_test=df[['dissolved oxygen','BCOD','pH']]"
   ]
  },
  {
   "cell_type": "code",
   "execution_count": 26,
   "id": "a32abe84-42c5-49a9-bf4f-923448df417b",
   "metadata": {},
   "outputs": [
    {
     "data": {
      "text/html": [
       "<div>\n",
       "<style scoped>\n",
       "    .dataframe tbody tr th:only-of-type {\n",
       "        vertical-align: middle;\n",
       "    }\n",
       "\n",
       "    .dataframe tbody tr th {\n",
       "        vertical-align: top;\n",
       "    }\n",
       "\n",
       "    .dataframe thead th {\n",
       "        text-align: right;\n",
       "    }\n",
       "</style>\n",
       "<table border=\"1\" class=\"dataframe\">\n",
       "  <thead>\n",
       "    <tr style=\"text-align: right;\">\n",
       "      <th></th>\n",
       "      <th>dissolved oxygen</th>\n",
       "      <th>BCOD</th>\n",
       "      <th>pH</th>\n",
       "    </tr>\n",
       "  </thead>\n",
       "  <tbody>\n",
       "    <tr>\n",
       "      <th>0</th>\n",
       "      <td>0.00</td>\n",
       "      <td>62.00</td>\n",
       "      <td>7.45</td>\n",
       "    </tr>\n",
       "    <tr>\n",
       "      <th>1</th>\n",
       "      <td>0.00</td>\n",
       "      <td>84.00</td>\n",
       "      <td>7.30</td>\n",
       "    </tr>\n",
       "    <tr>\n",
       "      <th>2</th>\n",
       "      <td>1.60</td>\n",
       "      <td>31.50</td>\n",
       "      <td>7.50</td>\n",
       "    </tr>\n",
       "    <tr>\n",
       "      <th>3</th>\n",
       "      <td>2.95</td>\n",
       "      <td>8.00</td>\n",
       "      <td>7.55</td>\n",
       "    </tr>\n",
       "    <tr>\n",
       "      <th>4</th>\n",
       "      <td>3.50</td>\n",
       "      <td>12.70</td>\n",
       "      <td>7.65</td>\n",
       "    </tr>\n",
       "    <tr>\n",
       "      <th>...</th>\n",
       "      <td>...</td>\n",
       "      <td>...</td>\n",
       "      <td>...</td>\n",
       "    </tr>\n",
       "    <tr>\n",
       "      <th>71</th>\n",
       "      <td>9.85</td>\n",
       "      <td>0.10</td>\n",
       "      <td>8.20</td>\n",
       "    </tr>\n",
       "    <tr>\n",
       "      <th>72</th>\n",
       "      <td>9.85</td>\n",
       "      <td>0.25</td>\n",
       "      <td>7.70</td>\n",
       "    </tr>\n",
       "    <tr>\n",
       "      <th>73</th>\n",
       "      <td>9.90</td>\n",
       "      <td>0.55</td>\n",
       "      <td>7.65</td>\n",
       "    </tr>\n",
       "    <tr>\n",
       "      <th>74</th>\n",
       "      <td>9.95</td>\n",
       "      <td>0.15</td>\n",
       "      <td>7.85</td>\n",
       "    </tr>\n",
       "    <tr>\n",
       "      <th>75</th>\n",
       "      <td>10.25</td>\n",
       "      <td>0.25</td>\n",
       "      <td>7.70</td>\n",
       "    </tr>\n",
       "  </tbody>\n",
       "</table>\n",
       "<p>76 rows × 3 columns</p>\n",
       "</div>"
      ],
      "text/plain": [
       "    dissolved oxygen   BCOD    pH\n",
       "0               0.00  62.00  7.45\n",
       "1               0.00  84.00  7.30\n",
       "2               1.60  31.50  7.50\n",
       "3               2.95   8.00  7.55\n",
       "4               3.50  12.70  7.65\n",
       "..               ...    ...   ...\n",
       "71              9.85   0.10  8.20\n",
       "72              9.85   0.25  7.70\n",
       "73              9.90   0.55  7.65\n",
       "74              9.95   0.15  7.85\n",
       "75             10.25   0.25  7.70\n",
       "\n",
       "[76 rows x 3 columns]"
      ]
     },
     "execution_count": 26,
     "metadata": {},
     "output_type": "execute_result"
    }
   ],
   "source": [
    "df_grp=df_test.groupby(['dissolved oxygen','BCOD'],as_index=False).mean()\n",
    "df_grp"
   ]
  },
  {
   "cell_type": "code",
   "execution_count": 27,
   "id": "bf9da53a-8b18-4f23-ac39-4b8f813d3596",
   "metadata": {},
   "outputs": [],
   "source": [
    "df_pivot=df_grp.pivot(index='dissolved oxygen',columns='BCOD')"
   ]
  },
  {
   "cell_type": "code",
   "execution_count": 28,
   "id": "e2cc6329-98d9-4f70-8e9c-1da926c02611",
   "metadata": {},
   "outputs": [
    {
     "data": {
      "image/png": "[encoded data removed]",
      "text/plain": [
       "<Figure size 432x288 with 2 Axes>"
      ]
     },
     "metadata": {
      "needs_background": "light"
     },
     "output_type": "display_data"
    }
   ],
   "source": [
    "import matplotlib.pyplot as plt\n",
    "\n",
    "plt.pcolor(df_pivot, cmap='RdBu')\n",
    "plt.colorbar()\n",
    "plt.show()\n",
    "\n",
    "#heatmap is not showing clearly the points"
   ]
  },
  {
   "cell_type": "code",
   "execution_count": 29,
   "id": "2258398d-cf49-4ec5-b820-756b79674032",
   "metadata": {},
   "outputs": [
    {
     "data": {
      "text/plain": [
       "<AxesSubplot:xlabel='dissolved oxygen', ylabel='pH'>"
      ]
     },
     "execution_count": 29,
     "metadata": {},
     "output_type": "execute_result"
    },
    {
     "data": {
      "image/png": "[encoded data removed]",
      "text/plain": [
       "<Figure size 432x288 with 1 Axes>"
      ]
     },
     "metadata": {
      "needs_background": "light"
     },
     "output_type": "display_data"
    }
   ],
   "source": [
    "sns.regplot(x='dissolved oxygen',y='pH', data=df) #since heatmap is not clear, we are using regplot"
   ]
  },
  {
   "cell_type": "code",
   "execution_count": 30,
   "id": "89e5349e-2334-4e29-83b0-aace3b2dc483",
   "metadata": {},
   "outputs": [
    {
     "data": {
      "text/plain": [
       "<AxesSubplot:xlabel='BCOD', ylabel='pH'>"
      ]
     },
     "execution_count": 30,
     "metadata": {},
     "output_type": "execute_result"
    },
    {
     "data": {
      "image/png": "[encoded data removed]",
      "text/plain": [
       "<Figure size 432x288 with 1 Axes>"
      ]
     },
     "metadata": {
      "needs_background": "light"
     },
     "output_type": "display_data"
    }
   ],
   "source": [
    "sns.regplot(x='BCOD',y='pH',data=df)"
   ]
  },
  {
   "cell_type": "code",
   "execution_count": 31,
   "id": "46872ab1-5297-4c4c-b7ef-bbb22fd49492",
   "metadata": {},
   "outputs": [
    {
     "data": {
      "text/plain": [
       "0.06992258621262916"
      ]
     },
     "execution_count": 31,
     "metadata": {},
     "output_type": "execute_result"
    }
   ],
   "source": [
    "from sklearn.metrics import mean_squared_error\n",
    "\n",
    "mean_squared_error(df['pH'],yhat)"
   ]
  },
  {
   "cell_type": "code",
   "execution_count": 32,
   "id": "9972aaf0-c0f2-4786-b4f9-65a0e11dac90",
   "metadata": {},
   "outputs": [
    {
     "data": {
      "text/plain": [
       "<AxesSubplot:xlabel='BCOD', ylabel='pH'>"
      ]
     },
     "execution_count": 32,
     "metadata": {},
     "output_type": "execute_result"
    },
    {
     "data": {
      "image/png": "[encoded data removed]",
      "text/plain": [
       "<Figure size 432x288 with 1 Axes>"
      ]
     },
     "metadata": {
      "needs_background": "light"
     },
     "output_type": "display_data"
    }
   ],
   "source": [
    "sns.residplot(x='BCOD',y='pH',data=df)"
   ]
  },
  {
   "cell_type": "code",
   "execution_count": 33,
   "id": "a1429254-d850-4b85-91e9-ad442fa21374",
   "metadata": {},
   "outputs": [
    {
     "data": {
      "text/plain": [
       "<AxesSubplot:xlabel='dissolved oxygen', ylabel='pH'>"
      ]
     },
     "execution_count": 33,
     "metadata": {},
     "output_type": "execute_result"
    },
    {
     "data": {
      "image/png": "[encoded data removed]",
      "text/plain": [
       "<Figure size 432x288 with 1 Axes>"
      ]
     },
     "metadata": {
      "needs_background": "light"
     },
     "output_type": "display_data"
    }
   ],
   "source": [
    "sns.residplot(x='dissolved oxygen',y='pH',data=df)"
   ]
  },
  {
   "cell_type": "code",
   "execution_count": 34,
   "id": "f57a8335-4d46-4fb3-ac3e-00137c7ba4d5",
   "metadata": {},
   "outputs": [],
   "source": [
    "scale=pipe.named_steps['sclae']"
   ]
  },
  {
   "cell_type": "code",
   "execution_count": 35,
   "id": "656e8338-62e8-44fd-a059-d9fb4d43f974",
   "metadata": {},
   "outputs": [
    {
     "data": {
      "text/plain": [
       "StandardScaler()"
      ]
     },
     "execution_count": 35,
     "metadata": {},
     "output_type": "execute_result"
    }
   ],
   "source": [
    "scale"
   ]
  },
  {
   "cell_type": "code",
   "execution_count": 36,
   "id": "ae0cb456-56de-4c0e-803b-14608193cc45",
   "metadata": {},
   "outputs": [
    {
     "ename": "AttributeError",
     "evalue": "'StandardScaler' object has no attribute 'best_estimator'",
     "output_type": "error",
     "traceback": [
      "\u001b[1;31m---------------------------------------------------------------------------\u001b[0m",
      "\u001b[1;31mAttributeError\u001b[0m                            Traceback (most recent call last)",
      "\u001b[1;32mC:\\Users\\RUTUJA~1\\AppData\\Local\\Temp/ipykernel_14588/1121226679.py\u001b[0m in \u001b[0;36m<module>\u001b[1;34m\u001b[0m\n\u001b[1;32m----> 1\u001b[1;33m \u001b[0mscale\u001b[0m\u001b[1;33m.\u001b[0m\u001b[0mbest_estimator\u001b[0m\u001b[1;33m.\u001b[0m\u001b[0mcoef_\u001b[0m\u001b[1;33m\u001b[0m\u001b[1;33m\u001b[0m\u001b[0m\n\u001b[0m",
      "\u001b[1;31mAttributeError\u001b[0m: 'StandardScaler' object has no attribute 'best_estimator'"
     ]
    }
   ],
   "source": [
    "scale.best_estimator.coef_"
   ]
  },
  {
   "cell_type": "code",
   "execution_count": null,
   "id": "3cb92539-b261-4fde-b97a-84149adeb58f",
   "metadata": {},
   "outputs": [],
   "source": [
    "pipe.score(df[['temperature','dissolved oxygen','conductivity','BCOD','nitrate','faecal coliform','total coliform']],df['pH'])"
   ]
  },
  {
   "cell_type": "code",
   "execution_count": 37,
   "id": "f268e7ab-a47c-4db1-b434-da7de2ca06c0",
   "metadata": {},
   "outputs": [
    {
     "data": {
      "text/plain": [
       "{'memory': None,\n",
       " 'steps': [('sclae', StandardScaler()),\n",
       "  ('Polynomial', PolynomialFeatures()),\n",
       "  ('mode', LinearRegression())],\n",
       " 'verbose': False,\n",
       " 'sclae': StandardScaler(),\n",
       " 'Polynomial': PolynomialFeatures(),\n",
       " 'mode': LinearRegression(),\n",
       " 'sclae__copy': True,\n",
       " 'sclae__with_mean': True,\n",
       " 'sclae__with_std': True,\n",
       " 'Polynomial__degree': 2,\n",
       " 'Polynomial__include_bias': True,\n",
       " 'Polynomial__interaction_only': False,\n",
       " 'Polynomial__order': 'C',\n",
       " 'mode__copy_X': True,\n",
       " 'mode__fit_intercept': True,\n",
       " 'mode__n_jobs': None,\n",
       " 'mode__normalize': 'deprecated',\n",
       " 'mode__positive': False}"
      ]
     },
     "execution_count": 37,
     "metadata": {},
     "output_type": "execute_result"
    }
   ],
   "source": [
    "pipe.get_params()"
   ]
  },
  {
   "cell_type": "code",
   "execution_count": 38,
   "id": "913bae89-d386-455f-800d-ef32ed42c388",
   "metadata": {},
   "outputs": [
    {
     "data": {
      "text/html": [
       "<div>\n",
       "<style scoped>\n",
       "    .dataframe tbody tr th:only-of-type {\n",
       "        vertical-align: middle;\n",
       "    }\n",
       "\n",
       "    .dataframe tbody tr th {\n",
       "        vertical-align: top;\n",
       "    }\n",
       "\n",
       "    .dataframe thead th {\n",
       "        text-align: right;\n",
       "    }\n",
       "</style>\n",
       "<table border=\"1\" class=\"dataframe\">\n",
       "  <thead>\n",
       "    <tr style=\"text-align: right;\">\n",
       "      <th></th>\n",
       "      <th>temperature</th>\n",
       "      <th>dissolved oxygen</th>\n",
       "      <th>pH</th>\n",
       "      <th>conductivity</th>\n",
       "      <th>BCOD</th>\n",
       "      <th>nitrate</th>\n",
       "      <th>faecal coliform</th>\n",
       "      <th>total coliform</th>\n",
       "    </tr>\n",
       "  </thead>\n",
       "  <tbody>\n",
       "    <tr>\n",
       "      <th>count</th>\n",
       "      <td>81.000000</td>\n",
       "      <td>81.000000</td>\n",
       "      <td>81.000000</td>\n",
       "      <td>81.000000</td>\n",
       "      <td>81.000000</td>\n",
       "      <td>81.000000</td>\n",
       "      <td>81.000000</td>\n",
       "      <td>8.100000e+01</td>\n",
       "    </tr>\n",
       "    <tr>\n",
       "      <th>mean</th>\n",
       "      <td>16.071605</td>\n",
       "      <td>8.080247</td>\n",
       "      <td>7.774259</td>\n",
       "      <td>590.665432</td>\n",
       "      <td>4.308025</td>\n",
       "      <td>1.126049</td>\n",
       "      <td>15146.684568</td>\n",
       "      <td>3.441897e+04</td>\n",
       "    </tr>\n",
       "    <tr>\n",
       "      <th>std</th>\n",
       "      <td>5.225646</td>\n",
       "      <td>2.074935</td>\n",
       "      <td>0.220285</td>\n",
       "      <td>571.581527</td>\n",
       "      <td>13.643424</td>\n",
       "      <td>1.233695</td>\n",
       "      <td>97158.676076</td>\n",
       "      <td>2.060708e+05</td>\n",
       "    </tr>\n",
       "    <tr>\n",
       "      <th>min</th>\n",
       "      <td>7.500000</td>\n",
       "      <td>0.000000</td>\n",
       "      <td>7.300000</td>\n",
       "      <td>77.000000</td>\n",
       "      <td>0.000000</td>\n",
       "      <td>0.100000</td>\n",
       "      <td>2.000000</td>\n",
       "      <td>2.000000e+00</td>\n",
       "    </tr>\n",
       "    <tr>\n",
       "      <th>25%</th>\n",
       "      <td>11.000000</td>\n",
       "      <td>7.950000</td>\n",
       "      <td>7.650000</td>\n",
       "      <td>214.000000</td>\n",
       "      <td>0.250000</td>\n",
       "      <td>0.350000</td>\n",
       "      <td>22.000000</td>\n",
       "      <td>1.795000e+02</td>\n",
       "    </tr>\n",
       "    <tr>\n",
       "      <th>50%</th>\n",
       "      <td>16.500000</td>\n",
       "      <td>8.600000</td>\n",
       "      <td>7.750000</td>\n",
       "      <td>275.500000</td>\n",
       "      <td>0.600000</td>\n",
       "      <td>0.700000</td>\n",
       "      <td>55.900000</td>\n",
       "      <td>4.100000e+02</td>\n",
       "    </tr>\n",
       "    <tr>\n",
       "      <th>75%</th>\n",
       "      <td>20.500000</td>\n",
       "      <td>9.250000</td>\n",
       "      <td>7.900000</td>\n",
       "      <td>1012.500000</td>\n",
       "      <td>1.200000</td>\n",
       "      <td>1.300000</td>\n",
       "      <td>300.000000</td>\n",
       "      <td>8.470000e+02</td>\n",
       "    </tr>\n",
       "    <tr>\n",
       "      <th>max</th>\n",
       "      <td>26.000000</td>\n",
       "      <td>10.250000</td>\n",
       "      <td>8.500000</td>\n",
       "      <td>2630.000000</td>\n",
       "      <td>84.000000</td>\n",
       "      <td>6.350000</td>\n",
       "      <td>863500.000000</td>\n",
       "      <td>1.789500e+06</td>\n",
       "    </tr>\n",
       "  </tbody>\n",
       "</table>\n",
       "</div>"
      ],
      "text/plain": [
       "       temperature  dissolved oxygen         pH  conductivity       BCOD  \\\n",
       "count    81.000000         81.000000  81.000000     81.000000  81.000000   \n",
       "mean     16.071605          8.080247   7.774259    590.665432   4.308025   \n",
       "std       5.225646          2.074935   0.220285    571.581527  13.643424   \n",
       "min       7.500000          0.000000   7.300000     77.000000   0.000000   \n",
       "25%      11.000000          7.950000   7.650000    214.000000   0.250000   \n",
       "50%      16.500000          8.600000   7.750000    275.500000   0.600000   \n",
       "75%      20.500000          9.250000   7.900000   1012.500000   1.200000   \n",
       "max      26.000000         10.250000   8.500000   2630.000000  84.000000   \n",
       "\n",
       "         nitrate  faecal coliform  total coliform  \n",
       "count  81.000000        81.000000    8.100000e+01  \n",
       "mean    1.126049     15146.684568    3.441897e+04  \n",
       "std     1.233695     97158.676076    2.060708e+05  \n",
       "min     0.100000         2.000000    2.000000e+00  \n",
       "25%     0.350000        22.000000    1.795000e+02  \n",
       "50%     0.700000        55.900000    4.100000e+02  \n",
       "75%     1.300000       300.000000    8.470000e+02  \n",
       "max     6.350000    863500.000000    1.789500e+06  "
      ]
     },
     "execution_count": 38,
     "metadata": {},
     "output_type": "execute_result"
    }
   ],
   "source": [
    "df.describe()"
   ]
  },
  {
   "cell_type": "code",
   "execution_count": 39,
   "id": "1ccb21d0-c40b-4908-af0f-2891f8a2546a",
   "metadata": {},
   "outputs": [],
   "source": [
    "pr=PolynomialFeatures(degree=2)"
   ]
  },
  {
   "cell_type": "code",
   "execution_count": 40,
   "id": "fa315420-97a1-4b8a-8d66-410e36edf978",
   "metadata": {},
   "outputs": [
    {
     "data": {
      "text/plain": [
       "array([[1.0000000e+00, 7.5000000e+00, 9.9500000e+00, ..., 5.0625000e+02,\n",
       "        4.0500000e+03, 3.2400000e+04],\n",
       "       [1.0000000e+00, 1.1000000e+01, 9.6500000e+00, ..., 3.9062500e+03,\n",
       "        2.5625000e+04, 1.6810000e+05],\n",
       "       [1.0000000e+00, 7.5000000e+00, 9.9000000e+00, ..., 6.7600000e+02,\n",
       "        5.2000000e+03, 4.0000000e+04],\n",
       "       ...,\n",
       "       [1.0000000e+00, 2.1500000e+01, 3.5000000e+00, ..., 1.2321000e+08,\n",
       "        3.1801500e+08, 8.2082250e+08],\n",
       "       [1.0000000e+00, 2.2000000e+01, 7.8000000e+00, ..., 2.6163225e+05,\n",
       "        7.3911750e+05, 2.0880250e+06],\n",
       "       [1.0000000e+00, 2.3000000e+01, 7.6500000e+00, ..., 2.4059025e+05,\n",
       "        6.1803000e+05, 1.5876000e+06]])"
      ]
     },
     "execution_count": 40,
     "metadata": {},
     "output_type": "execute_result"
    }
   ],
   "source": [
    "pr.fit_transform(df[['temperature','dissolved oxygen','conductivity','BCOD','faecal coliform','total coliform']],df[['pH']])"
   ]
  },
  {
   "cell_type": "code",
   "execution_count": 41,
   "id": "aa44b71e-2849-473d-8d55-cd34136edeb5",
   "metadata": {},
   "outputs": [
    {
     "ename": "AttributeError",
     "evalue": "'PolynomialFeatures' object has no attribute 'coef_'",
     "output_type": "error",
     "traceback": [
      "\u001b[1;31m---------------------------------------------------------------------------\u001b[0m",
      "\u001b[1;31mAttributeError\u001b[0m                            Traceback (most recent call last)",
      "\u001b[1;32mC:\\Users\\RUTUJA~1\\AppData\\Local\\Temp/ipykernel_14588/1407459914.py\u001b[0m in \u001b[0;36m<module>\u001b[1;34m\u001b[0m\n\u001b[1;32m----> 1\u001b[1;33m \u001b[0mpr\u001b[0m\u001b[1;33m.\u001b[0m\u001b[0mcoef_\u001b[0m\u001b[1;33m\u001b[0m\u001b[1;33m\u001b[0m\u001b[0m\n\u001b[0m",
      "\u001b[1;31mAttributeError\u001b[0m: 'PolynomialFeatures' object has no attribute 'coef_'"
     ]
    }
   ],
   "source": [
    "pr.coef_"
   ]
  },
  {
   "cell_type": "code",
   "execution_count": 42,
   "id": "0f092247-715b-4273-b083-c29f746cf800",
   "metadata": {},
   "outputs": [
    {
     "data": {
      "image/png": "[encoded data removed]",
      "text/plain": [
       "<Figure size 432x288 with 1 Axes>"
      ]
     },
     "metadata": {
      "needs_background": "light"
     },
     "output_type": "display_data"
    }
   ],
   "source": [
    "MSE=[]\n",
    "order=[1,2,3,4]\n",
    "\n",
    "for i in order:\n",
    "\n",
    "    Input=[('sclae',StandardScaler()),('Polynomial',PolynomialFeatures(degree=i)),('mode',LinearRegression())]\n",
    "\n",
    "    pipe=Pipeline(Input)\n",
    "    pipe.fit(df[['temperature','dissolved oxygen','conductivity','BCOD','nitrate','faecal coliform','total coliform']],df['pH'])\n",
    "    yhat=pipe.predict(df[['temperature','dissolved oxygen','conductivity','BCOD','nitrate','faecal coliform','total coliform']])\n",
    "    MSE.append(mean_squared_error(df['pH'],yhat))\n",
    "    \n",
    "plt.plot(order,MSE)\n",
    "plt.xlabel('Polynomial order')\n",
    "plt.ylabel('Mean squared error')\n",
    "plt.title('Order Vs MSE')\n",
    "plt.show()"
   ]
  },
  {
   "cell_type": "code",
   "execution_count": null,
   "id": "9377395c-1376-491a-be3c-fc6d02e3dfcd",
   "metadata": {},
   "outputs": [],
   "source": []
  },
  {
   "cell_type": "code",
   "execution_count": null,
   "id": "acf1a28a-b88e-41d9-b03c-4a93ed03e3ac",
   "metadata": {},
   "outputs": [],
   "source": []
  },
  {
   "cell_type": "code",
   "execution_count": null,
   "id": "406c4d13-a92d-4837-ae21-68ed893bc4c9",
   "metadata": {},
   "outputs": [],
   "source": []
  },
  {
   "cell_type": "code",
   "execution_count": null,
   "id": "6bf034ef-1587-4de0-966f-fea0a909fb55",
   "metadata": {},
   "outputs": [],
   "source": []
  },
  {
   "cell_type": "code",
   "execution_count": null,
   "id": "70124322-09cb-49ad-85a5-ada480dcafca",
   "metadata": {},
   "outputs": [],
   "source": []
  }
 ],
 "metadata": {
  "kernelspec": {
   "display_name": "Python 3 (ipykernel)",
   "language": "python",
   "name": "python3"
  },
  "language_info": {
   "codemirror_mode": {
    "name": "ipython",
    "version": 3
   },
   "file_extension": ".py",
   "mimetype": "text/x-python",
   "name": "python",
   "nbconvert_exporter": "python",
   "pygments_lexer": "ipython3",
   "version": "3.9.7"
  }
 },
 "nbformat": 4,
 "nbformat_minor": 5
}
